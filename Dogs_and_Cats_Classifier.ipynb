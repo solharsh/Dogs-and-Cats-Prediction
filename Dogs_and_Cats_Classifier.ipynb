{
  "nbformat": 4,
  "nbformat_minor": 0,
  "metadata": {
    "colab": {
      "name": "Dogs_and_Cats_Classifier.ipynb",
      "provenance": [],
      "mount_file_id": "1IgTI58O1U7BGGjV8Xp7PZo5GHf1L9jSC",
      "authorship_tag": "ABX9TyO0UU7JM9A02od9EcPcadCN",
      "include_colab_link": true
    },
    "kernelspec": {
      "name": "python3",
      "display_name": "Python 3"
    }
  },
  "cells": [
    {
      "cell_type": "markdown",
      "metadata": {
        "id": "view-in-github",
        "colab_type": "text"
      },
      "source": [
        "<a href=\"https://colab.research.google.com/github/solharsh/Dogs-and-Cats-Prediction/blob/master/Dogs_and_Cats_Classifier.ipynb\" target=\"_parent\"><img src=\"https://colab.research.google.com/assets/colab-badge.svg\" alt=\"Open In Colab\"/></a>"
      ]
    },
    {
      "cell_type": "code",
      "metadata": {
        "id": "eFTqF0-jO1Nl",
        "colab_type": "code",
        "colab": {}
      },
      "source": [
        "import tensorflow as tf\n",
        "from tensorflow import keras\n",
        "from tensorflow.keras import Sequential\n",
        "from tensorflow.keras.layers import Flatten, Dense, Conv2D, MaxPool2D, BatchNormalization, Dropout, ZeroPadding2D\n",
        "from tensorflow.keras.preprocessing.image import ImageDataGenerator\n",
        "from tensorflow.keras.optimizers import SGD"
      ],
      "execution_count": 0,
      "outputs": []
    },
    {
      "cell_type": "code",
      "metadata": {
        "id": "bOCFVB_NQDzQ",
        "colab_type": "code",
        "colab": {}
      },
      "source": [
        "import pandas as pd\n",
        "import numpy as np\n",
        "import matplotlib.pyplot as plt\n",
        "%matplotlib inline"
      ],
      "execution_count": 0,
      "outputs": []
    },
    {
      "cell_type": "code",
      "metadata": {
        "id": "QJEmaHVrRF03",
        "colab_type": "code",
        "colab": {
          "base_uri": "https://localhost:8080/",
          "height": 117
        },
        "outputId": "5dd3af53-ea96-4359-c8b3-f392d924c474"
      },
      "source": [
        "!git clone https://github.com/dipak104/Dogs-and-Cats-Prediction.git"
      ],
      "execution_count": 48,
      "outputs": [
        {
          "output_type": "stream",
          "text": [
            "Cloning into 'Dogs-and-Cats-Prediction'...\n",
            "remote: Enumerating objects: 25016, done.\u001b[K\n",
            "remote: Total 25016 (delta 0), reused 0 (delta 0), pack-reused 25016\u001b[K\n",
            "Receiving objects: 100% (25016/25016), 541.56 MiB | 38.13 MiB/s, done.\n",
            "Resolving deltas: 100% (1/1), done.\n",
            "Checking out files: 100% (25002/25002), done.\n"
          ],
          "name": "stdout"
        }
      ]
    },
    {
      "cell_type": "code",
      "metadata": {
        "id": "QrDFc7fmRHyi",
        "colab_type": "code",
        "colab": {}
      },
      "source": [
        "test_data_dir = '/content/Dogs-and-Cats-Prediction/data/test'\n",
        "train_data_dir = '/content/Dogs-and-Cats-Prediction/data/train'"
      ],
      "execution_count": 0,
      "outputs": []
    },
    {
      "cell_type": "code",
      "metadata": {
        "id": "140BSI08RKNW",
        "colab_type": "code",
        "colab": {}
      },
      "source": [
        "img_width = 32\n",
        "img_height = 32\n",
        "batch_size = 20"
      ],
      "execution_count": 0,
      "outputs": []
    },
    {
      "cell_type": "code",
      "metadata": {
        "id": "zm6walFeRM9m",
        "colab_type": "code",
        "colab": {}
      },
      "source": [
        "datagen = ImageDataGenerator(rescale=1./255)"
      ],
      "execution_count": 0,
      "outputs": []
    },
    {
      "cell_type": "code",
      "metadata": {
        "id": "fOU7zGB6RPdo",
        "colab_type": "code",
        "colab": {
          "base_uri": "https://localhost:8080/",
          "height": 33
        },
        "outputId": "a7e016d2-cdbc-4639-ad1e-ead4dc1ccc93"
      },
      "source": [
        "train_generator = datagen.flow_from_directory(directory = train_data_dir, target_size=(img_width, img_height),\n",
        "                                              classes=['dogs','cats'], class_mode='binary', batch_size=batch_size)"
      ],
      "execution_count": 52,
      "outputs": [
        {
          "output_type": "stream",
          "text": [
            "Found 20000 images belonging to 2 classes.\n"
          ],
          "name": "stdout"
        }
      ]
    },
    {
      "cell_type": "code",
      "metadata": {
        "id": "mfF_o29GRTxI",
        "colab_type": "code",
        "colab": {
          "base_uri": "https://localhost:8080/",
          "height": 33
        },
        "outputId": "137ca514-088b-4949-df65-03f53912baae"
      },
      "source": [
        "train_generator.classes"
      ],
      "execution_count": 53,
      "outputs": [
        {
          "output_type": "execute_result",
          "data": {
            "text/plain": [
              "array([0, 0, 0, ..., 1, 1, 1], dtype=int32)"
            ]
          },
          "metadata": {
            "tags": []
          },
          "execution_count": 53
        }
      ]
    },
    {
      "cell_type": "code",
      "metadata": {
        "id": "qccWBE5KRVV1",
        "colab_type": "code",
        "colab": {
          "base_uri": "https://localhost:8080/",
          "height": 33
        },
        "outputId": "67e9286a-f665-4bd5-dfdd-444ed7b25b2c"
      },
      "source": [
        "validation_generator = datagen.flow_from_directory(directory = test_data_dir, target_size=(32, 32),\n",
        "                                                   classes=['dogs','cats'], class_mode = 'binary',batch_size=batch_size)"
      ],
      "execution_count": 54,
      "outputs": [
        {
          "output_type": "stream",
          "text": [
            "Found 5000 images belonging to 2 classes.\n"
          ],
          "name": "stdout"
        }
      ]
    },
    {
      "cell_type": "code",
      "metadata": {
        "id": "gZYY8xP9RWUq",
        "colab_type": "code",
        "colab": {
          "base_uri": "https://localhost:8080/",
          "height": 33
        },
        "outputId": "8fdac82d-1135-44d1-a014-67595caf0ec0"
      },
      "source": [
        "len(train_generator)"
      ],
      "execution_count": 55,
      "outputs": [
        {
          "output_type": "execute_result",
          "data": {
            "text/plain": [
              "1000"
            ]
          },
          "metadata": {
            "tags": []
          },
          "execution_count": 55
        }
      ]
    },
    {
      "cell_type": "markdown",
      "metadata": {
        "id": "Emc-gSWNRYoW",
        "colab_type": "text"
      },
      "source": [
        "# Build Base CNN Model"
      ]
    },
    {
      "cell_type": "code",
      "metadata": {
        "id": "QyR_ChM0RXL8",
        "colab_type": "code",
        "colab": {}
      },
      "source": [
        "model = Sequential()\n",
        "model.add(Conv2D(filters=64, kernel_size=(3, 3), activation='relu', padding='same', kernel_initializer='he_uniform', \n",
        "                 input_shape=(img_width, img_height,3)))\n",
        "model.add(MaxPool2D(2, 2))\n",
        "\n",
        "model.add(Flatten())\n",
        "model.add(Dense(units = 128, activation='relu', kernel_initializer='he_uniform'))\n",
        "model.add(Dense(units=1, activation='sigmoid'))"
      ],
      "execution_count": 0,
      "outputs": []
    },
    {
      "cell_type": "code",
      "metadata": {
        "id": "da2Jgm7PRaTh",
        "colab_type": "code",
        "colab": {}
      },
      "source": [
        "opt = SGD(learning_rate=0.01, momentum=0.9)\n",
        "model.compile(optimizer=opt, loss='binary_crossentropy', metrics=['accuracy'])"
      ],
      "execution_count": 0,
      "outputs": []
    },
    {
      "cell_type": "code",
      "metadata": {
        "id": "BctTzFS5RdRL",
        "colab_type": "code",
        "colab": {
          "base_uri": "https://localhost:8080/",
          "height": 233
        },
        "outputId": "786cc971-5691-414d-cfde-78d6ba3dd413"
      },
      "source": [
        "history = model.fit_generator(generator=train_generator, steps_per_epoch=len(train_generator),\n",
        "                              epochs=5, validation_data=validation_generator, \n",
        "                              validation_steps=len(validation_generator), verbose=1)"
      ],
      "execution_count": 58,
      "outputs": [
        {
          "output_type": "stream",
          "text": [
            "WARNING:tensorflow:From <ipython-input-58-cb3c7d174130>:3: Model.fit_generator (from tensorflow.python.keras.engine.training) is deprecated and will be removed in a future version.\n",
            "Instructions for updating:\n",
            "Please use Model.fit, which supports generators.\n",
            "Epoch 1/5\n",
            "1000/1000 [==============================] - 98s 98ms/step - loss: 0.6962 - accuracy: 0.4994 - val_loss: 0.6924 - val_accuracy: 0.5080\n",
            "Epoch 2/5\n",
            "1000/1000 [==============================] - 98s 98ms/step - loss: 0.6893 - accuracy: 0.5092 - val_loss: 0.6907 - val_accuracy: 0.5102\n",
            "Epoch 3/5\n",
            "1000/1000 [==============================] - 97s 97ms/step - loss: 0.6827 - accuracy: 0.5379 - val_loss: 0.6748 - val_accuracy: 0.5998\n",
            "Epoch 4/5\n",
            "1000/1000 [==============================] - 97s 97ms/step - loss: 0.6429 - accuracy: 0.6350 - val_loss: 0.6465 - val_accuracy: 0.6096\n",
            "Epoch 5/5\n",
            "1000/1000 [==============================] - 97s 97ms/step - loss: 0.5692 - accuracy: 0.7067 - val_loss: 0.5450 - val_accuracy: 0.7236\n"
          ],
          "name": "stdout"
        }
      ]
    },
    {
      "cell_type": "code",
      "metadata": {
        "id": "vV-9FhwPReb4",
        "colab_type": "code",
        "colab": {
          "base_uri": "https://localhost:8080/",
          "height": 350
        },
        "outputId": "f3064d66-527c-469d-cd9c-be4af97f4f2d"
      },
      "source": [
        "history.history"
      ],
      "execution_count": 59,
      "outputs": [
        {
          "output_type": "execute_result",
          "data": {
            "text/plain": [
              "{'accuracy': [0.4994499981403351,\n",
              "  0.5091500282287598,\n",
              "  0.537850022315979,\n",
              "  0.6350499987602234,\n",
              "  0.7067499756813049],\n",
              " 'loss': [0.6962241530418396,\n",
              "  0.689299464225769,\n",
              "  0.6827142834663391,\n",
              "  0.642859697341919,\n",
              "  0.5691814422607422],\n",
              " 'val_accuracy': [0.5080000162124634,\n",
              "  0.510200023651123,\n",
              "  0.5997999906539917,\n",
              "  0.6096000075340271,\n",
              "  0.7235999703407288],\n",
              " 'val_loss': [0.692383885383606,\n",
              "  0.6906628012657166,\n",
              "  0.6747581362724304,\n",
              "  0.64654141664505,\n",
              "  0.5449634194374084]}"
            ]
          },
          "metadata": {
            "tags": []
          },
          "execution_count": 59
        }
      ]
    },
    {
      "cell_type": "code",
      "metadata": {
        "id": "ErRQ2dg4RfXy",
        "colab_type": "code",
        "colab": {}
      },
      "source": [
        "def plot_learningCurve(history):\n",
        "  # Plot training & validation accuracy values\n",
        "  epoch_range = range(1, 6)\n",
        "  plt.plot(epoch_range, history.history['accuracy'])\n",
        "  plt.plot(epoch_range, history.history['val_accuracy'])\n",
        "  plt.title('Model accuracy')\n",
        "  plt.ylabel('Accuracy')\n",
        "  plt.xlabel('Epoch')\n",
        "  plt.legend(['Train', 'Val'], loc='upper left')\n",
        "  plt.show()\n",
        "\n",
        "  # Plot training & validation loss values\n",
        "  plt.plot(epoch_range, history.history['loss'])\n",
        "  plt.plot(epoch_range, history.history['val_loss'])\n",
        "  plt.title('Model loss')\n",
        "  plt.ylabel('Loss')\n",
        "  plt.xlabel('Epoch')\n",
        "  plt.legend(['Train', 'Val'], loc='upper left')\n",
        "  plt.show()"
      ],
      "execution_count": 0,
      "outputs": []
    },
    {
      "cell_type": "code",
      "metadata": {
        "id": "he7m8hq7Rgsz",
        "colab_type": "code",
        "colab": {
          "base_uri": "https://localhost:8080/",
          "height": 573
        },
        "outputId": "ef6d5662-a056-453a-e050-03360eeb174c"
      },
      "source": [
        "plot_learningCurve(history)"
      ],
      "execution_count": 61,
      "outputs": [
        {
          "output_type": "display_data",
          "data": {
            "image/png": "[encoded data removed]",
            "text/plain": [
              "<Figure size 432x288 with 1 Axes>"
            ]
          },
          "metadata": {
            "tags": [],
            "needs_background": "light"
          }
        },
        {
          "output_type": "display_data",
          "data": {
            "image/png": "[encoded data removed]",
            "text/plain": [
              "<Figure size 432x288 with 1 Axes>"
            ]
          },
          "metadata": {
            "tags": [],
            "needs_background": "light"
          }
        }
      ]
    },
    {
      "cell_type": "markdown",
      "metadata": {
        "id": "1blE4ulNRjge",
        "colab_type": "text"
      },
      "source": [
        "# Impliment First 3 Blocks of VGG16 Model"
      ]
    },
    {
      "cell_type": "code",
      "metadata": {
        "id": "D-kuNXO7Rhug",
        "colab_type": "code",
        "colab": {}
      },
      "source": [
        "model = Sequential()\n",
        "model.add(Conv2D(filters=64, kernel_size=(3, 3), activation='relu', padding='same', kernel_initializer='he_uniform', \n",
        "                 input_shape=(img_width, img_height,3)))\n",
        "model.add(MaxPool2D(2, 2))\n",
        "\n",
        "model = Sequential()\n",
        "model.add(Conv2D(filters=128, kernel_size=(3, 3), activation='relu', padding='same', kernel_initializer='he_uniform'))\n",
        "model.add(MaxPool2D(2, 2))\n",
        "\n",
        "model = Sequential()\n",
        "model.add(Conv2D(filters=256, kernel_size=(3, 3), activation='relu', padding='same', kernel_initializer='he_uniform'))\n",
        "model.add(MaxPool2D(2, 2))\n",
        "\n",
        "model = Sequential()\n",
        "model.add(Conv2D(filters=512, kernel_size=(3, 3), activation='relu', padding='same', kernel_initializer='he_uniform'))\n",
        "model.add(MaxPool2D(2, 2))\n",
        "\n",
        "model.add(Flatten())\n",
        "model.add(Dense(units = 128, activation='relu', kernel_initializer='he_uniform'))\n",
        "model.add(Dense(units=1, activation='sigmoid'))"
      ],
      "execution_count": 0,
      "outputs": []
    },
    {
      "cell_type": "code",
      "metadata": {
        "id": "9WqeqSNtRmwb",
        "colab_type": "code",
        "colab": {}
      },
      "source": [
        "opt = SGD(learning_rate=0.01, momentum=0.9)\n",
        "model.compile(optimizer=opt, loss='binary_crossentropy', metrics=['accuracy'])"
      ],
      "execution_count": 0,
      "outputs": []
    },
    {
      "cell_type": "code",
      "metadata": {
        "id": "TwX_jMisRn4x",
        "colab_type": "code",
        "colab": {
          "base_uri": "https://localhost:8080/",
          "height": 183
        },
        "outputId": "a29a5f67-b4c6-4ef4-e5e3-464ee75ff59b"
      },
      "source": [
        "history = model.fit_generator(generator=train_generator, steps_per_epoch=len(train_generator),\n",
        "                              epochs=5, validation_data=validation_generator, \n",
        "                              validation_steps=len(validation_generator), verbose=1)"
      ],
      "execution_count": 64,
      "outputs": [
        {
          "output_type": "stream",
          "text": [
            "Epoch 1/5\n",
            "1000/1000 [==============================] - 291s 291ms/step - loss: 0.7306 - accuracy: 0.4981 - val_loss: 0.6938 - val_accuracy: 0.5000\n",
            "Epoch 2/5\n",
            "1000/1000 [==============================] - 286s 286ms/step - loss: 0.6936 - accuracy: 0.4922 - val_loss: 0.6932 - val_accuracy: 0.5000\n",
            "Epoch 3/5\n",
            "1000/1000 [==============================] - 289s 289ms/step - loss: 0.6936 - accuracy: 0.4947 - val_loss: 0.6932 - val_accuracy: 0.5000\n",
            "Epoch 4/5\n",
            "1000/1000 [==============================] - 286s 286ms/step - loss: 0.6934 - accuracy: 0.5030 - val_loss: 0.6934 - val_accuracy: 0.5000\n",
            "Epoch 5/5\n",
            "1000/1000 [==============================] - 292s 292ms/step - loss: 0.6937 - accuracy: 0.5009 - val_loss: 0.6935 - val_accuracy: 0.5000\n"
          ],
          "name": "stdout"
        }
      ]
    },
    {
      "cell_type": "markdown",
      "metadata": {
        "id": "6PjKt63ZRqz1",
        "colab_type": "text"
      },
      "source": [
        "# Batch Normalization and Drouput"
      ]
    },
    {
      "cell_type": "code",
      "metadata": {
        "id": "IIWEIGkeRo6X",
        "colab_type": "code",
        "colab": {}
      },
      "source": [
        "model = Sequential()\n",
        "model.add(Conv2D(filters=64, kernel_size=(3, 3), activation='relu', padding='same', kernel_initializer='he_uniform', \n",
        "                 input_shape=(img_width, img_height,3)))\n",
        "model.add(BatchNormalization())\n",
        "model.add(MaxPool2D(2, 2))\n",
        "model.add(Dropout(0.2))\n",
        "\n",
        "model = Sequential()\n",
        "model.add(Conv2D(filters=128, kernel_size=(3, 3), activation='relu', padding='same', kernel_initializer='he_uniform'))\n",
        "model.add(BatchNormalization())\n",
        "model.add(MaxPool2D(2, 2))\n",
        "model.add(Dropout(0.3))\n",
        "\n",
        "model = Sequential()\n",
        "model.add(Conv2D(filters=256, kernel_size=(3, 3), activation='relu', padding='same', kernel_initializer='he_uniform'))\n",
        "model.add(BatchNormalization())\n",
        "model.add(MaxPool2D(2, 2))\n",
        "model.add(Dropout(0.5))\n",
        "\n",
        "model.add(Flatten())\n",
        "model.add(Dense(units = 128, activation='relu', kernel_initializer='he_uniform'))\n",
        "model.add(BatchNormalization())\n",
        "model.add(Dropout(0.5))\n",
        "\n",
        "model.add(Dense(units=1, activation='sigmoid'))"
      ],
      "execution_count": 0,
      "outputs": []
    },
    {
      "cell_type": "code",
      "metadata": {
        "id": "mSobkieMRsW2",
        "colab_type": "code",
        "colab": {}
      },
      "source": [
        "opt = SGD(learning_rate=0.01, momentum=0.9)\n",
        "model.compile(optimizer=opt, loss='binary_crossentropy', metrics=['accuracy'])"
      ],
      "execution_count": 0,
      "outputs": []
    },
    {
      "cell_type": "code",
      "metadata": {
        "id": "Kc-QfN7oRtgK",
        "colab_type": "code",
        "colab": {
          "base_uri": "https://localhost:8080/",
          "height": 350
        },
        "outputId": "e5c515a6-16d0-4369-fa08-58f2ad7aa174"
      },
      "source": [
        "history = model.fit_generator(generator=train_generator, steps_per_epoch=len(train_generator),\n",
        "                              epochs=10, validation_data=validation_generator, \n",
        "                              validation_steps=len(validation_generator), verbose=1)"
      ],
      "execution_count": 67,
      "outputs": [
        {
          "output_type": "stream",
          "text": [
            "Epoch 1/10\n",
            "1000/1000 [==============================] - 247s 247ms/step - loss: 0.6694 - accuracy: 0.6370 - val_loss: 0.6227 - val_accuracy: 0.6732\n",
            "Epoch 2/10\n",
            "1000/1000 [==============================] - 245s 245ms/step - loss: 0.5875 - accuracy: 0.6977 - val_loss: 0.5654 - val_accuracy: 0.7256\n",
            "Epoch 3/10\n",
            "1000/1000 [==============================] - 243s 243ms/step - loss: 0.5514 - accuracy: 0.7237 - val_loss: 0.5676 - val_accuracy: 0.7002\n",
            "Epoch 4/10\n",
            "1000/1000 [==============================] - 241s 241ms/step - loss: 0.5305 - accuracy: 0.7366 - val_loss: 0.5301 - val_accuracy: 0.7348\n",
            "Epoch 5/10\n",
            "1000/1000 [==============================] - 245s 245ms/step - loss: 0.5115 - accuracy: 0.7484 - val_loss: 0.5339 - val_accuracy: 0.7382\n",
            "Epoch 6/10\n",
            "1000/1000 [==============================] - 243s 243ms/step - loss: 0.4964 - accuracy: 0.7600 - val_loss: 0.5462 - val_accuracy: 0.7360\n",
            "Epoch 7/10\n",
            "1000/1000 [==============================] - 245s 245ms/step - loss: 0.4912 - accuracy: 0.7653 - val_loss: 0.5522 - val_accuracy: 0.7214\n",
            "Epoch 8/10\n",
            "1000/1000 [==============================] - 240s 240ms/step - loss: 0.4859 - accuracy: 0.7696 - val_loss: 0.5479 - val_accuracy: 0.7230\n",
            "Epoch 9/10\n",
            "1000/1000 [==============================] - 240s 240ms/step - loss: 0.4880 - accuracy: 0.7656 - val_loss: 0.4985 - val_accuracy: 0.7654\n",
            "Epoch 10/10\n",
            "1000/1000 [==============================] - 245s 245ms/step - loss: 0.4645 - accuracy: 0.7810 - val_loss: 0.4927 - val_accuracy: 0.7644\n"
          ],
          "name": "stdout"
        }
      ]
    },
    {
      "cell_type": "code",
      "metadata": {
        "id": "mAYXuoBjRuel",
        "colab_type": "code",
        "colab": {}
      },
      "source": [
        "def plot_learningCurve(history, epoch):\n",
        "  # Plot training & validation accuracy values\n",
        "  epoch_range = range(1, epoch+1)\n",
        "  plt.plot(epoch_range, history.history['accuracy'])\n",
        "  plt.plot(epoch_range, history.history['val_accuracy'])\n",
        "  plt.title('Model accuracy')\n",
        "  plt.ylabel('Accuracy')\n",
        "  plt.xlabel('Epoch')\n",
        "  plt.legend(['Train', 'Val'], loc='upper left')\n",
        "  plt.show()\n",
        "\n",
        "  # Plot training & validation loss values\n",
        "  plt.plot(epoch_range, history.history['loss'])\n",
        "  plt.plot(epoch_range, history.history['val_loss'])\n",
        "  plt.title('Model loss')\n",
        "  plt.ylabel('Loss')\n",
        "  plt.xlabel('Epoch')\n",
        "  plt.legend(['Train', 'Val'], loc='upper left')\n",
        "  plt.show()"
      ],
      "execution_count": 0,
      "outputs": []
    },
    {
      "cell_type": "code",
      "metadata": {
        "id": "CBHEKCgGRvz7",
        "colab_type": "code",
        "colab": {
          "base_uri": "https://localhost:8080/",
          "height": 573
        },
        "outputId": "6fb02230-a988-449a-cbd3-6c547cda7914"
      },
      "source": [
        "plot_learningCurve(history, 10)"
      ],
      "execution_count": 69,
      "outputs": [
        {
          "output_type": "display_data",
          "data": {
            "image/png": "[encoded data removed]",
            "text/plain": [
              "<Figure size 432x288 with 1 Axes>"
            ]
          },
          "metadata": {
            "tags": [],
            "needs_background": "light"
          }
        },
        {
          "output_type": "display_data",
          "data": {
            "image/png": "[encoded data removed]",
            "text/plain": [
              "<Figure size 432x288 with 1 Axes>"
            ]
          },
          "metadata": {
            "tags": [],
            "needs_background": "light"
          }
        }
      ]
    },
    {
      "cell_type": "code",
      "metadata": {
        "id": "bKowrr1BRwox",
        "colab_type": "code",
        "colab": {}
      },
      "source": [
        ""
      ],
      "execution_count": 0,
      "outputs": []
    }
  ]
}